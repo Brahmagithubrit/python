{
  "nbformat": 4,
  "nbformat_minor": 0,
  "metadata": {
    "colab": {
      "provenance": [],
      "authorship_tag": "ABX9TyNZHWN3kQp153x2PUpRzNr7",
      "include_colab_link": true
    },
    "kernelspec": {
      "name": "python3",
      "display_name": "Python 3"
    },
    "language_info": {
      "name": "python"
    }
  },
  "cells": [
    {
      "cell_type": "markdown",
      "metadata": {
        "id": "view-in-github",
        "colab_type": "text"
      },
      "source": [
        "<a href=\"https://colab.research.google.com/github/Brahmagithubrit/python/blob/master/Untitled4.ipynb\" target=\"_parent\"><img src=\"https://colab.research.google.com/assets/colab-badge.svg\" alt=\"Open In Colab\"/></a>"
      ]
    },
    {
      "cell_type": "markdown",
      "source": [
        "# New Section"
      ],
      "metadata": {
        "id": "_teanC0CPlnS"
      }
    },
    {
      "cell_type": "code",
      "source": [
        "import numpy as np\n",
        "a = np.array([1,2,3])\n",
        "a"
      ],
      "metadata": {
        "colab": {
          "base_uri": "https://localhost:8080/"
        },
        "id": "3eE8nuRnPgac",
        "outputId": "1401c55a-41f3-4622-b38b-47f0386fed0a"
      },
      "execution_count": null,
      "outputs": [
        {
          "output_type": "execute_result",
          "data": {
            "text/plain": [
              "array([1, 2, 3])"
            ]
          },
          "metadata": {},
          "execution_count": 2
        }
      ]
    },
    {
      "cell_type": "markdown",
      "source": [
        "These methods are use to create array"
      ],
      "metadata": {
        "id": "8D3W77qGVFt7"
      }
    },
    {
      "cell_type": "code",
      "source": [
        "a[0] = 5\n",
        "print (a)\n",
        "\n",
        "b = np.zeros((2,3))\n",
        "print (b)\n",
        "\n",
        "c = np.ones ((3,3))\n",
        "print(c)\n",
        "\n",
        "d = np.arange (0 , 10, 2)\n",
        "# arange actually writing all the nubmbers form start to end  whch are divided by  last number\n",
        "print(d)\n",
        "\n",
        "e = np.linspace(0, 2, 5)\n",
        "print (e)"
      ],
      "metadata": {
        "colab": {
          "base_uri": "https://localhost:8080/"
        },
        "id": "mz3oUToTPv9h",
        "outputId": "bf129e18-e6dc-4bec-f889-0a8222370a46"
      },
      "execution_count": null,
      "outputs": [
        {
          "output_type": "stream",
          "name": "stdout",
          "text": [
            "[5 2 3]\n",
            "[[0. 0. 0.]\n",
            " [0. 0. 0.]]\n",
            "[[1. 1. 1.]\n",
            " [1. 1. 1.]\n",
            " [1. 1. 1.]]\n",
            "[0 2 4 6 8]\n",
            "[0.  0.5 1.  1.5 2. ]\n"
          ]
        }
      ]
    },
    {
      "cell_type": "markdown",
      "source": [
        "shape and resize"
      ],
      "metadata": {
        "id": "CByumTQXVKCY"
      }
    },
    {
      "cell_type": "code",
      "source": [
        "a.shape\n",
        "\n",
        "a = np.array([[1,2,3], [4,5,6]])\n",
        "a.shape\n",
        "# to know the how many row and col in array\n",
        "\n",
        "f = a.reshape (3 , 2 )\n",
        "print (f) #reshaping the row and cols\n",
        "\n",
        "g = a.flatten()\n",
        "print (g) #flattening the array\n"
      ],
      "metadata": {
        "colab": {
          "base_uri": "https://localhost:8080/"
        },
        "id": "kyHi6tSBVBA7",
        "outputId": "1343b943-e72c-475e-a96e-dfce106f85a9"
      },
      "execution_count": null,
      "outputs": [
        {
          "output_type": "stream",
          "name": "stdout",
          "text": [
            "[[1 2]\n",
            " [3 4]\n",
            " [5 6]]\n",
            "[1 2 3 4 5 6]\n"
          ]
        }
      ]
    },
    {
      "cell_type": "markdown",
      "source": [
        "indexing and slicing  "
      ],
      "metadata": {
        "id": "0wTMXQSXVzQi"
      }
    },
    {
      "cell_type": "code",
      "source": [
        "a = np.array([[1,2,3] , [4,5,6]])\n",
        "a[0 , 1 ]\n",
        "a[: , 2 ]\n",
        "a[ : , :]\n",
        "a[:  , 0]"
      ],
      "metadata": {
        "colab": {
          "base_uri": "https://localhost:8080/"
        },
        "id": "TX3_S1QEVyaa",
        "outputId": "b0fd5adc-7863-417e-fb7b-5eb59ef4024f"
      },
      "execution_count": null,
      "outputs": [
        {
          "output_type": "execute_result",
          "data": {
            "text/plain": [
              "array([1, 4])"
            ]
          },
          "metadata": {},
          "execution_count": 35
        }
      ]
    }
  ]
}